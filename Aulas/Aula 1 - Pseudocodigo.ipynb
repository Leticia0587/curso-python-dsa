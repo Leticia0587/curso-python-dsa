{
 "cells": [
  {
   "cell_type": "markdown",
   "id": "4aac36e0",
   "metadata": {},
   "source": [
    "### Pseudocódigo 1 - Calcular a Área de um Paralelogramo\n",
    "\n",
    "Nota: Um paralelogramo é um quadrilátero com lados opostos paralelos (e portanto  ângulos opostos iguais). Um quadrilátero com lados iguais é chamado de losango e um paralelogramo cujos ângulos são todos ângulos retos é chamado de retângulo."
   ]
  },
  {
   "cell_type": "markdown",
   "id": "eedd8a1b",
   "metadata": {},
   "source": [
    " Inicio\n",
    " \n",
    "     Exiba \"Bem-vindo ao Calculador de Área de Paralelogramo\"\n",
    "     Peça ao usuario inserir o comprimento da base\n",
    "     Armazene o comprimentro da base em uma variavel\n",
    "     Peça ao usuario inserir a altura\n",
    "     Armazene o resultado em uma varivel\n",
    "     Calcule a área ao paralelogramo: base * altura\n",
    "     Armazene o resultado em uma variavel\n",
    "     Exiba o resultado\n",
    "     \n",
    " Fim"
   ]
  },
  {
   "cell_type": "markdown",
   "id": "32a6d76f",
   "metadata": {},
   "source": [
    "## Convertendo o Pseudocódigo 1 em Programa Python"
   ]
  },
  {
   "cell_type": "code",
   "execution_count": 1,
   "id": "741ef04f",
   "metadata": {},
   "outputs": [
    {
     "name": "stdout",
     "output_type": "stream",
     "text": [
      "Bem-vindo ao Calculador de Área de Paralelogramo\n"
     ]
    }
   ],
   "source": [
    "print(\"Bem-vindo ao Calculador de Área de Paralelogramo\")"
   ]
  },
  {
   "cell_type": "code",
   "execution_count": 2,
   "id": "cee4a8a3",
   "metadata": {},
   "outputs": [
    {
     "name": "stdout",
     "output_type": "stream",
     "text": [
      "Insira o comprimento da base: 4\n"
     ]
    }
   ],
   "source": [
    "base = float(input(\"Insira o comprimento da base: \"))"
   ]
  },
  {
   "cell_type": "code",
   "execution_count": 3,
   "id": "df6ad02b",
   "metadata": {},
   "outputs": [
    {
     "name": "stdout",
     "output_type": "stream",
     "text": [
      "Insira a altura: 7\n"
     ]
    }
   ],
   "source": [
    "altura = float(input(\"Insira a altura: \"))"
   ]
  },
  {
   "cell_type": "code",
   "execution_count": 4,
   "id": "bbd72694",
   "metadata": {},
   "outputs": [],
   "source": [
    "area = base * altura"
   ]
  },
  {
   "cell_type": "code",
   "execution_count": 5,
   "id": "caf57bee",
   "metadata": {},
   "outputs": [
    {
     "name": "stdout",
     "output_type": "stream",
     "text": [
      "A área do paralelogramo é:  28.0\n"
     ]
    }
   ],
   "source": [
    "print(\"A área do paralelogramo é: \", area)"
   ]
  },
  {
   "cell_type": "markdown",
   "id": "332760b6",
   "metadata": {},
   "source": [
    "## Pseudocódigo 2 - Calculadora Simples"
   ]
  },
  {
   "cell_type": "markdown",
   "id": "b78cf2cb",
   "metadata": {},
   "source": [
    "Inicio\n",
    "\n",
    "    Exiba \"Bem-vindo á Clculadora\"\n",
    "    Peça para o usuário inserir o primeiro número\n",
    "    Armazene o primeiro número em uma variável\n",
    "    Peça para o usuário o inserir o segundo número\n",
    "    Armazene o segundo número em uma variável\n",
    "    Peça para o usuário selecionar uma operação (+, -, *,/)\n",
    "    Armazene a operação em uma variável\n",
    "    Utilize a opreação selecionada e os núemros armazenados para realizar o calculo\n",
    "    Exiba o resultado\n",
    " \n",
    "Fim"
   ]
  },
  {
   "cell_type": "code",
   "execution_count": 6,
   "id": "a0e026b6",
   "metadata": {},
   "outputs": [
    {
     "name": "stdout",
     "output_type": "stream",
     "text": [
      "Bem-vindo á Calculadora\n"
     ]
    }
   ],
   "source": [
    "print(\"Bem-vindo á Calculadora\")"
   ]
  },
  {
   "cell_type": "code",
   "execution_count": 7,
   "id": "98ab11a4",
   "metadata": {},
   "outputs": [
    {
     "name": "stdout",
     "output_type": "stream",
     "text": [
      "Insira o primeiro número: 5\n"
     ]
    }
   ],
   "source": [
    "num1 = float(input(\"Insira o primeiro número: \"))"
   ]
  },
  {
   "cell_type": "code",
   "execution_count": 8,
   "id": "9d288ab4",
   "metadata": {},
   "outputs": [
    {
     "name": "stdout",
     "output_type": "stream",
     "text": [
      "Insira o segundo número: 9\n"
     ]
    }
   ],
   "source": [
    "num2 = float(input(\"Insira o segundo número: \"))"
   ]
  },
  {
   "cell_type": "code",
   "execution_count": 9,
   "id": "4117a233",
   "metadata": {},
   "outputs": [
    {
     "name": "stdout",
     "output_type": "stream",
     "text": [
      "Insira a operação desejada (+, -, *,/): -\n"
     ]
    }
   ],
   "source": [
    "operacao = input(\"Insira a operação desejada (+, -, *,/): \")"
   ]
  },
  {
   "cell_type": "code",
   "execution_count": 11,
   "id": "d81a602c",
   "metadata": {},
   "outputs": [
    {
     "name": "stdout",
     "output_type": "stream",
     "text": [
      "o resultado é:  -4.0\n"
     ]
    }
   ],
   "source": [
    "if operacao == \"+\":\n",
    "    resultado = num1 + num2\n",
    "    print(\"o resultado é: \", resultado)\n",
    "    \n",
    "elif operacao == \"-\":\n",
    "    resultado = num1 - num2\n",
    "    print(\"o resultado é: \", resultado)\n",
    "    \n",
    "elif operacao == \"*\":\n",
    "    resultado = num1 * num2\n",
    "    print(\"o resultado é: \", resultado)\n",
    "    \n",
    "elif operacao == \"/\":\n",
    "    resultado = num1 / num2\n",
    "    print(\"o resultado é: \", resultado)\n",
    "    \n",
    "else:\n",
    "    print(\"Operação inválida.\")"
   ]
  },
  {
   "cell_type": "markdown",
   "id": "0670c35d",
   "metadata": {},
   "source": [
    "## Pseudocódigo 3 - Algoritmo Bubble Sort\n",
    "\n",
    "Bubble Sort é um algoritmo de ordenação simples que funciona comparando cada elemento com o próximo, e trocando-os de lugar se eles estiverem em ordem incorreta. O algoritmo repete esse processo várias vezes, até que todos os elementos estejam ordenados. A cada passagem, o maior elemento \"flutua\" para o final do array, como uma bolha, dando origem ao nome do algoritmo."
   ]
  },
  {
   "cell_type": "markdown",
   "id": "ac0fbadf",
   "metadata": {},
   "source": [
    "Inicio\n",
    "\n",
    "    Para cada elemento i no array de tamanho n\n",
    "        Para cada elemento j no array de tamanho n - 1\n",
    "            Se o elemento i for maior que o elemnto j\n",
    "                Troque os elemntos i e j\n",
    "    Exiba o array ordenado\n",
    "\n",
    "Fim"
   ]
  },
  {
   "cell_type": "code",
   "execution_count": 12,
   "id": "1cb66eb5",
   "metadata": {},
   "outputs": [],
   "source": [
    "lista = [6,7,8,3,10,19,4,1,0,61,30,16,17,82,29,34,43,21,11,39,56,67,12]"
   ]
  },
  {
   "cell_type": "code",
   "execution_count": null,
   "id": "b9a8e8b3",
   "metadata": {},
   "outputs": [],
   "source": [
    "def bubble_sort(arr):\n",
    "        n = len(arr)\n",
    "        \n",
    "        # Para cada elemento i do array\n",
    "        for i in range(n):\n",
    "            \n",
    "            # Para cada elemnto j do array\n",
    "            for j in range(0, n-i-1):\n",
    "                \n",
    "                # Se elemento i for maior que o elemento j\n",
    "                if arr[j] > arr[j+1]:\n",
    "                    \n",
    "                    # Troque os elementos i e j\n",
    "                    arr[j], arr[j+1]= arr[j+1], arr[j]\n",
    "        return arr"
   ]
  },
  {
   "cell_type": "code",
   "execution_count": 14,
   "id": "5324c003",
   "metadata": {},
   "outputs": [
    {
     "name": "stdout",
     "output_type": "stream",
     "text": [
      "[0, 1, 3, 4, 6, 7, 8, 10, 11, 12, 16, 17, 19, 21, 29, 30, 34, 39, 43, 56, 61, 67, 82]\n"
     ]
    }
   ],
   "source": [
    "print(bubble_sort(lista))"
   ]
  }
 ],
 "metadata": {
  "kernelspec": {
   "display_name": "Python 3 (ipykernel)",
   "language": "python",
   "name": "python3"
  },
  "language_info": {
   "codemirror_mode": {
    "name": "ipython",
    "version": 3
   },
   "file_extension": ".py",
   "mimetype": "text/x-python",
   "name": "python",
   "nbconvert_exporter": "python",
   "pygments_lexer": "ipython3",
   "version": "3.9.13"
  }
 },
 "nbformat": 4,
 "nbformat_minor": 5
}
