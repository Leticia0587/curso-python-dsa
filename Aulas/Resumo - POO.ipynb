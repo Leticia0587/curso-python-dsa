{
 "cells": [
  {
   "cell_type": "markdown",
   "id": "abc1034b",
   "metadata": {},
   "source": [
    "## Conceitos Detalhados da POO em Python"
   ]
  },
  {
   "cell_type": "code",
   "execution_count": 7,
   "id": "a92c38e0",
   "metadata": {},
   "outputs": [],
   "source": [
    "## 1.Classe: É como um molde, uma receita. Ela serve para criar objetos com características e comportamentos definidos.\n",
    "\n",
    "class Carro:\n",
    "    def __init__(self, marca, modelo):  # Atributos\n",
    "        self.marca = marca\n",
    "        self.modelo = modelo\n",
    "\n",
    "    def exibir_informacoes(self):       # Método\n",
    "        print(f\"Marca: {self.marca}, Modelo: {self.modelo}\")"
   ]
  },
  {
   "cell_type": "code",
   "execution_count": 8,
   "id": "5a345fb2",
   "metadata": {},
   "outputs": [
    {
     "name": "stdout",
     "output_type": "stream",
     "text": [
      "Marca: Toyota, Modelo: Corolla\n"
     ]
    }
   ],
   "source": [
    "## 2.Objeto: É a coisa real criada a partir da classe. Cada objeto tem seus próprios dados.\n",
    "\n",
    "meu_carro = Carro(\"Toyota\", \"Corolla\")\n",
    "meu_carro.exibir_informacoes()  # Saída: Marca: Toyota, Modelo: Corolla"
   ]
  },
  {
   "cell_type": "code",
   "execution_count": 10,
   "id": "b323274f",
   "metadata": {},
   "outputs": [],
   "source": [
    "## 3.Encapsulamento (Proteger os dados): É esconder partes internas da classe para que ninguém de fora altere sem permissão.\n",
    "## Usamos dois underlines (__) para tornar um atributo privado.\n",
    "\n",
    "class ContaBancaria:\n",
    "    def __int__(self, saldo):\n",
    "        self.__saldo = saldo # Privado\n",
    "        \n",
    "    def depositar(self, valor):\n",
    "        if valor > 0:\n",
    "            self.__saldo += valor\n",
    "        else:\n",
    "            print(\"Valor inválido\")\n",
    "            \n",
    "    def ver_saldo(self):\n",
    "        return self.__saldo"
   ]
  },
  {
   "cell_type": "code",
   "execution_count": 15,
   "id": "f99a3746",
   "metadata": {},
   "outputs": [],
   "source": [
    "## 4.Herança(Reaproveitar código): É quando uma classe nova herda (pega) atributos e métodos de uma classe existente.\n",
    "\n",
    "class Veiculo:\n",
    "    def __int__(self, rodas):\n",
    "        self.rodas = rodas\n",
    "        \n",
    "class Carro(Veiculo):   # Carro herda de Veiculo\n",
    "    def __int__(self, rodas, marca):\n",
    "        super().__int__(rodas)  # Chama o construtor da classe mãe\n",
    "        self.marca = marca"
   ]
  },
  {
   "cell_type": "code",
   "execution_count": 13,
   "id": "46f00b2c",
   "metadata": {},
   "outputs": [],
   "source": [
    "## 5. Polimorfismo (mesma função, comportamentos diferentes): É quando diferentes classes têm métodos com o mesmo nome, mas fazem coisas diferentes.\n",
    "\n",
    "class Passaro:\n",
    "    def falar(self):\n",
    "        print(\"Piu\")\n",
    "\n",
    "class Gato:\n",
    "    def falar(self):\n",
    "        print(\"Miau\")\n",
    "        \n",
    "def som_animal(animal):\n",
    "    animal.falar()"
   ]
  },
  {
   "cell_type": "code",
   "execution_count": 14,
   "id": "655940a5",
   "metadata": {},
   "outputs": [
    {
     "name": "stdout",
     "output_type": "stream",
     "text": [
      "Piu\n",
      "Miau\n"
     ]
    }
   ],
   "source": [
    "passaro = Passaro()\n",
    "gato = Gato()\n",
    "\n",
    "som_animal(passaro)  \n",
    "som_animal(gato)"
   ]
  },
  {
   "cell_type": "markdown",
   "id": "bb7c2a7a",
   "metadata": {},
   "source": [
    "### Resumo Final \n",
    "\n",
    "| **Conceito**        | **Explicação Simples**                                 | **Palavra-Chave Técnica** |\n",
    "|---------------------|--------------------------------------------------------|----------------------------|\n",
    "| **Classe**          | Um molde para criar objetos com atributos e métodos    | **Definição**              |\n",
    "| **Objeto**          | Um exemplo real criado a partir da classe              | **Instância**              |\n",
    "| **Encapsulamento**  | Protege dados da classe, permitindo acesso controlado  | **Restrição**              |\n",
    "| **Herança**         | Reaproveita código de uma classe base (mãe)            | **Reutilização**           |\n",
    "| **Polimorfismo**    | Mesmo método, comportamentos diferentes                 | **Flexibilidade**          |\n"
   ]
  }
 ],
 "metadata": {
  "kernelspec": {
   "display_name": "Python 3 (ipykernel)",
   "language": "python",
   "name": "python3"
  },
  "language_info": {
   "codemirror_mode": {
    "name": "ipython",
    "version": 3
   },
   "file_extension": ".py",
   "mimetype": "text/x-python",
   "name": "python",
   "nbconvert_exporter": "python",
   "pygments_lexer": "ipython3",
   "version": "3.9.13"
  }
 },
 "nbformat": 4,
 "nbformat_minor": 5
}
